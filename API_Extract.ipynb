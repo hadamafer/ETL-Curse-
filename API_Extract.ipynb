{
  "cells": [
    {
      "cell_type": "markdown",
      "metadata": {
        "id": "view-in-github",
        "colab_type": "text"
      },
      "source": [
        "<a href=\"https://colab.research.google.com/github/hadamafer/ETL-Curse-/blob/main/API_Extract.ipynb\" target=\"_parent\"><img src=\"https://colab.research.google.com/assets/colab-badge.svg\" alt=\"Open In Colab\"/></a>"
      ]
    },
    {
      "cell_type": "markdown",
      "metadata": {
        "id": "qiLao0TGM1mX"
      },
      "source": [
        "<center>\n",
        "    <img src=\"https://gitlab.com/ibm/skills-network/courses/placeholder101/-/raw/master/labs/module%201/images/IDSNlogo.png\" width=\"300\" alt=\"cognitiveclass.ai logo\"  />\n",
        "</center>\n"
      ]
    },
    {
      "cell_type": "markdown",
      "metadata": {
        "id": "52ssmTmyM1mc"
      },
      "source": [
        "# Peer Review Assignment - Data Engineer - Extract API Data\n"
      ]
    },
    {
      "cell_type": "markdown",
      "metadata": {
        "id": "dEmJemqJM1mc"
      },
      "source": [
        "Estimated time needed: **20** minutes\n"
      ]
    },
    {
      "cell_type": "markdown",
      "metadata": {
        "id": "_xV5v9ILM1md"
      },
      "source": [
        "## Objectives\n",
        "\n",
        "In this part you will:\n",
        "\n",
        "*   Collect exchange rate data using an API\n",
        "*   Store the data as a CSV\n"
      ]
    },
    {
      "cell_type": "markdown",
      "metadata": {
        "id": "AyLkLgRaM1md"
      },
      "source": [
        "For this lab, we are going to be using Python and several Python libraries. Some of these libraries might be installed in your lab environment or in SN Labs. Others may need to be installed by you. The cells below will install these libraries when executed.\n"
      ]
    },
    {
      "cell_type": "code",
      "execution_count": null,
      "metadata": {
        "id": "qHVuJ_fXM1me"
      },
      "outputs": [],
      "source": [
        "#!pip install pandas\n",
        "#!pip install requests"
      ]
    },
    {
      "cell_type": "markdown",
      "metadata": {
        "id": "ETHtLilkM1mf"
      },
      "source": [
        "## Imports\n",
        "\n",
        "Import any additional libraries you may need here.\n"
      ]
    },
    {
      "cell_type": "code",
      "execution_count": null,
      "metadata": {
        "id": "fpdltMtpM1mf"
      },
      "outputs": [],
      "source": [
        "import requests as re\n",
        "import pandas as pd"
      ]
    },
    {
      "cell_type": "markdown",
      "metadata": {
        "id": "aFrWhSrXM1mg"
      },
      "source": [
        "## Extract Data Using an API\n"
      ]
    },
    {
      "cell_type": "markdown",
      "metadata": {
        "id": "Zwn5w8znM1mg"
      },
      "source": [
        "Using ExchangeRate-API we will extract currency exchange rate data. Use the below steps to get the access key and to get the data.\n",
        "\n",
        "1.  Open the url : [https://exchangeratesapi.io/](https://exchangeratesapi.io/?utm_medium=Exinfluencer&utm_source=Exinfluencer&utm_content=000026UJ&utm_term=10006555&utm_id=NA-SkillsNetwork-Channel-SkillsNetworkCoursesIBMDeveloperSkillsNetworkPY0221ENSkillsNetwork23455645-2021-01-01) and create a free account.\n",
        "2.  Once the account is created. You will get the Get the Free API key option on the top as shown below:\n",
        "\n",
        "<img src=\"https://cf-courses-data.s3.us.cloud-object-storage.appdomain.cloud/IBMDeveloperSkillsNetwork-PY0221EN-SkillsNetwork/labs/module%206/Final%20Assignment/Images/getapi.png\"/>\n",
        "\n",
        "3.  Copy the API key and use in the url in Question 1.\n"
      ]
    },
    {
      "cell_type": "markdown",
      "metadata": {
        "id": "eoinJhwGM1mh"
      },
      "source": [
        "### Call the API\n",
        "\n",
        "<b> Question 1</b> Using the `requests` library call the endpoint given above and save the text, remember the first few characters of the output:\n"
      ]
    },
    {
      "cell_type": "code",
      "execution_count": null,
      "metadata": {
        "id": "vmf3-tvTM1mh",
        "outputId": "13683f26-fc27-428a-e44c-0928152f7f72"
      },
      "outputs": [
        {
          "name": "stdout",
          "output_type": "stream",
          "text": [
            "{'success': True, 'timestamp': 1642288443, 'base': 'EUR', 'date': '2022-01-15', 'rates': {'AED': 4.193127, 'AFN': 119.987889, 'ALL': 121.410807, 'AMD': 548.978433, 'ANG': 2.056857, 'AOA': 611.330538, 'ARS': 118.564148, 'AUD': 1.584031, 'AWG': 2.0549, 'AZN': 1.945271, 'BAM': 1.949156, 'BBD': 2.30441, 'BDT': 98.05542, 'BGN': 1.9555, 'BHD': 0.430432, 'BIF': 2292.926006, 'BMD': 1.141611, 'BND': 1.535848, 'BOB': 7.857795, 'BRL': 6.318708, 'BSD': 1.141292, 'BTC': 2.633507e-05, 'BTN': 84.586877, 'BWP': 13.14858, 'BYN': 2.942824, 'BYR': 22375.578654, 'BZD': 2.300523, 'CAD': 1.433241, 'CDF': 2292.355614, 'CHF': 1.043676, 'CLF': 0.033914, 'CLP': 935.790532, 'CNY': 7.252204, 'COP': 4574.435901, 'CRC': 726.821384, 'CUC': 1.141611, 'CUP': 30.252696, 'CVE': 110.398247, 'CZK': 24.517474, 'DJF': 202.887584, 'DKK': 7.442967, 'DOP': 66.042654, 'DZD': 159.79506, 'EGP': 17.913352, 'ERN': 17.12419, 'ETB': 56.514177, 'EUR': 1, 'FJD': 2.41912, 'FKP': 0.831002, 'GBP': 0.834786, 'GEL': 3.521916, 'GGP': 0.831001, 'GHS': 7.044186, 'GIP': 0.831001, 'GMD': 60.562917, 'GNF': 10365.829701, 'GTQ': 8.796581, 'GYD': 238.77245, 'HKD': 8.887333, 'HNL': 27.998059, 'HRK': 7.519227, 'HTG': 118.332832, 'HUF': 356.833842, 'IDR': 16341.649971, 'ILS': 3.547374, 'IMP': 0.831001, 'INR': 84.920463, 'IQD': 1666.752288, 'IRR': 48233.071736, 'ISK': 146.800219, 'JEP': 0.831002, 'JMD': 176.593349, 'JOD': 0.809521, 'JPY': 130.411996, 'KES': 129.463047, 'KGS': 96.786027, 'KHR': 4652.06586, 'KMF': 491.606349, 'KPW': 1027.450219, 'KRW': 1358.814532, 'KWD': 0.344676, 'KYD': 0.951044, 'KZT': 496.925072, 'LAK': 12888.790348, 'LBP': 1725.092413, 'LKR': 231.53869, 'LRD': 170.956706, 'LSL': 17.524167, 'LTL': 3.370881, 'LVL': 0.69055, 'LYD': 5.222916, 'MAD': 10.537505, 'MDL': 20.566182, 'MGA': 4526.488629, 'MKD': 61.404752, 'MMK': 2029.235543, 'MNT': 3263.673549, 'MOP': 9.151485, 'MRO': 407.554986, 'MUR': 50.006842, 'MVR': 17.638324, 'MWK': 933.271388, 'MXN': 23.180459, 'MYR': 4.770227, 'MZN': 72.869471, 'NAD': 17.524162, 'NGN': 472.958516, 'NIO': 40.417287, 'NOK': 9.991096, 'NPR': 135.339195, 'NZD': 1.678479, 'OMR': 0.439533, 'PAB': 1.141292, 'PEN': 4.416327, 'PGK': 4.030463, 'PHP': 58.591422, 'PKR': 201.095233, 'PLN': 4.538989, 'PYG': 7942.006794, 'QAR': 4.15665, 'RON': 4.943523, 'RSD': 117.593875, 'RUB': 87.030845, 'RWF': 1158.735323, 'SAR': 4.283487, 'SBD': 9.195539, 'SCR': 17.060903, 'SDG': 499.45908, 'SEK': 10.312893, 'SGD': 1.538635, 'SHP': 1.57246, 'SLL': 12980.693836, 'SOS': 667.842913, 'SRD': 24.319786, 'STD': 23629.046022, 'SVC': 9.986805, 'SYP': 2867.726967, 'SZL': 17.524153, 'THB': 37.87071, 'TJS': 12.891131, 'TMT': 3.995639, 'TND': 3.293591, 'TOP': 2.589117, 'TRY': 15.441894, 'TTD': 7.746775, 'TWD': 31.454855, 'TZS': 2633.69732, 'UAH': 31.9221, 'UGX': 4023.025276, 'USD': 1.141611, 'UYU': 50.976458, 'UZS': 12391.047867, 'VEF': 244110967273.5161, 'VND': 25931.697405, 'VUV': 129.768554, 'WST': 2.98228, 'XAF': 653.721539, 'XAG': 0.049724, 'XAU': 0.000628, 'XCD': 3.085262, 'XDR': 0.810927, 'XOF': 653.001961, 'XPF': 119.686929, 'YER': 285.688607, 'ZAR': 17.551569, 'ZMK': 10275.874438, 'ZMW': 19.54468, 'ZWL': 367.598326}}\n"
          ]
        }
      ],
      "source": [
        "# Write your code here\n",
        "url = \"http://api.exchangeratesapi.io/v1/latest?base=EUR&access_key=6db690c9964409c7e4aa14e5b78bf33b\"  \n",
        "#Make sure to change ******* to your API key.\n",
        "#url='http://api.exchangeratesapi.io/v1/Latest?access_key=ab63ceacedc3c5dec34db7ef34fffdaa'\n",
        "r=re.get(url)\n",
        "data=r.json()\n",
        "print(data)\n"
      ]
    },
    {
      "cell_type": "markdown",
      "metadata": {
        "id": "KW8QBOAXM1mh"
      },
      "source": [
        "### Save as DataFrame\n",
        "\n",
        "<b> Question 2</b>  Using the data gathered turn it into a `pandas` dataframe. The dataframe should have the Currency as the index and `Rate` as their columns. Make sure to drop unnecessary columns.\n"
      ]
    },
    {
      "cell_type": "code",
      "execution_count": null,
      "metadata": {
        "id": "wuPhBJWJM1mi",
        "outputId": "78c447e1-f386-4ac9-86b7-446f4110c91e"
      },
      "outputs": [
        {
          "name": "stdout",
          "output_type": "stream",
          "text": [
            "     success           timestamp base       date         rates\n",
            "AED     True 2022-01-15 23:14:03  EUR 2022-01-15      4.193127\n",
            "AFN     True 2022-01-15 23:14:03  EUR 2022-01-15    119.987889\n",
            "ALL     True 2022-01-15 23:14:03  EUR 2022-01-15    121.410807\n",
            "AMD     True 2022-01-15 23:14:03  EUR 2022-01-15    548.978433\n",
            "ANG     True 2022-01-15 23:14:03  EUR 2022-01-15      2.056857\n",
            "..       ...                 ...  ...        ...           ...\n",
            "YER     True 2022-01-15 23:14:03  EUR 2022-01-15    285.688607\n",
            "ZAR     True 2022-01-15 23:14:03  EUR 2022-01-15     17.551569\n",
            "ZMK     True 2022-01-15 23:14:03  EUR 2022-01-15  10275.874438\n",
            "ZMW     True 2022-01-15 23:14:03  EUR 2022-01-15     19.544680\n",
            "ZWL     True 2022-01-15 23:14:03  EUR 2022-01-15    367.598326\n",
            "\n",
            "[168 rows x 5 columns]\n"
          ]
        }
      ],
      "source": [
        "# Turn the data into a dataframe\n",
        "df = pd.read_json(url)\n",
        "print(df)"
      ]
    },
    {
      "cell_type": "code",
      "execution_count": null,
      "metadata": {
        "id": "9pBkyJDAM1mi",
        "outputId": "90ac81aa-3846-4f17-f746-7ffe3c7861a3"
      },
      "outputs": [
        {
          "name": "stdout",
          "output_type": "stream",
          "text": [
            "            rates\n",
            "AED      4.193127\n",
            "AFN    119.987889\n",
            "ALL    121.410807\n",
            "AMD    548.978433\n",
            "ANG      2.056857\n",
            "..            ...\n",
            "YER    285.688607\n",
            "ZAR     17.551569\n",
            "ZMK  10275.874438\n",
            "ZMW     19.544680\n",
            "ZWL    367.598326\n",
            "\n",
            "[168 rows x 1 columns]\n"
          ]
        }
      ],
      "source": [
        "# Drop unnescessary columns\n",
        "df.columns\n",
        "df= df.drop(['timestamp'], axis=1)\n",
        "df= df.drop(['date'], axis=1)\n",
        "df= df.drop(['base'], axis=1)\n",
        "df= df.drop(['success'], axis=1)\n",
        "\n",
        "print(df)"
      ]
    },
    {
      "cell_type": "markdown",
      "metadata": {
        "id": "veSMvilUM1mi"
      },
      "source": [
        "### Load the Data\n",
        "\n",
        "Using the dataframe save it as a CSV names `exchange_rates_1.csv`.\n"
      ]
    },
    {
      "cell_type": "code",
      "execution_count": null,
      "metadata": {
        "id": "hPrIU9kTM1mi"
      },
      "outputs": [],
      "source": [
        "# Save the hDataframe\n",
        "df.to_csv('exchange_rates_1.csv')"
      ]
    },
    {
      "cell_type": "markdown",
      "metadata": {
        "id": "3amJrRVgM1mj"
      },
      "source": [
        "Your CSV should be in this format with more currencies\n",
        "\n",
        "|     | Rates      |\n",
        "| --- | ---------- |\n",
        "| AED | 4.398618   |\n",
        "| AFN | 92.917693  |\n",
        "| ALL | 123.099093 |\n",
        "| AMD | 621.935674 |\n",
        "| ANG | 2.149648   |\n"
      ]
    },
    {
      "cell_type": "markdown",
      "metadata": {
        "id": "W8g6dfwnM1mj"
      },
      "source": [
        "## Authors\n"
      ]
    },
    {
      "cell_type": "markdown",
      "metadata": {
        "id": "aStX6hVuM1mj"
      },
      "source": [
        "Ramesh Sannareddy, Joseph Santarcangelo and Azim Hirjani\n"
      ]
    },
    {
      "cell_type": "markdown",
      "metadata": {
        "id": "-L1JU-KGM1mj"
      },
      "source": [
        "### Other Contributors\n"
      ]
    },
    {
      "cell_type": "markdown",
      "metadata": {
        "id": "9PgCDJwrM1mj"
      },
      "source": [
        "Rav Ahuja\n"
      ]
    },
    {
      "cell_type": "markdown",
      "metadata": {
        "id": "GpmRgPGUM1mj"
      },
      "source": [
        "## Change Log\n"
      ]
    },
    {
      "cell_type": "markdown",
      "metadata": {
        "id": "k1XvWwEQM1mk"
      },
      "source": [
        "| Date (YYYY-MM-DD) | Version | Changed By        | Change Description                 |\n",
        "| ----------------- | ------- | ----------------- | ---------------------------------- |\n",
        "| 2021-04-15        | 0.2     | Malika            | Updated the lab from USD to EUR    |\n",
        "| 2020-11-25        | 0.1     | Ramesh Sannareddy | Created initial version of the lab |\n"
      ]
    },
    {
      "cell_type": "markdown",
      "metadata": {
        "id": "HDTsnIYuM1mk"
      },
      "source": [
        "Copyright © 2020 IBM Corporation. This notebook and its source code are released under the terms of the [MIT License](https://cognitiveclass.ai/mit-license?utm_medium=Exinfluencer&utm_source=Exinfluencer&utm_content=000026UJ&utm_term=10006555&utm_id=NA-SkillsNetwork-Channel-SkillsNetworkCoursesIBMDeveloperSkillsNetworkPY0221ENSkillsNetwork23455645-2021-01-01&cm_mmc=Email_Newsletter-\\_-Developer_Ed%2BTech-\\_-WW_WW-\\_-SkillsNetwork-Courses-IBM-DA0321EN-SkillsNetwork-21426264&cm_mmca1=000026UJ&cm_mmca2=10006555&cm_mmca3=M12345678&cvosrc=email.Newsletter.M12345678&cvo_campaign=000026UJ).\n"
      ]
    }
  ],
  "metadata": {
    "kernelspec": {
      "display_name": "Python 3 (ipykernel)",
      "language": "python",
      "name": "python3"
    },
    "language_info": {
      "codemirror_mode": {
        "name": "ipython",
        "version": 3
      },
      "file_extension": ".py",
      "mimetype": "text/x-python",
      "name": "python",
      "nbconvert_exporter": "python",
      "pygments_lexer": "ipython3",
      "version": "3.7.0"
    },
    "colab": {
      "name": "API_Extract.ipynb",
      "provenance": [],
      "include_colab_link": true
    }
  },
  "nbformat": 4,
  "nbformat_minor": 0
}