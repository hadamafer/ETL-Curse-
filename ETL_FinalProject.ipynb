{
  "cells": [
    {
      "cell_type": "markdown",
      "metadata": {
        "id": "view-in-github",
        "colab_type": "text"
      },
      "source": [
        "<a href=\"https://colab.research.google.com/github/hadamafer/ETL-Curse-/blob/main/ETL_FinalProject.ipynb\" target=\"_parent\"><img src=\"https://colab.research.google.com/assets/colab-badge.svg\" alt=\"Open In Colab\"/></a>"
      ]
    },
    {
      "cell_type": "markdown",
      "metadata": {
        "id": "m92VN1s2O3zc"
      },
      "source": [
        "<center>\n",
        "    <img src=\"https://gitlab.com/ibm/skills-network/courses/placeholder101/-/raw/master/labs/module%201/images/IDSNlogo.png\" width=\"300\" alt=\"cognitiveclass.ai logo\"  />\n",
        "</center>\n"
      ]
    },
    {
      "cell_type": "markdown",
      "metadata": {
        "id": "NVpy7ospO3zg"
      },
      "source": [
        "# Peer Review Assignment - Data Engineer - ETL\n"
      ]
    },
    {
      "cell_type": "markdown",
      "metadata": {
        "id": "U_5oP-OfO3zh"
      },
      "source": [
        "Estimated time needed: **20** minutes\n"
      ]
    },
    {
      "cell_type": "markdown",
      "metadata": {
        "id": "yLt0EBKFO3zi"
      },
      "source": [
        "## Objectives\n",
        "\n",
        "In this final part you will:\n",
        "\n",
        "*   Run the ETL process\n",
        "*   Extract bank and market cap data from the JSON file `bank_market_cap.json`\n",
        "*   Transform the market cap currency using the exchange rate data\n",
        "*   Load the transformed data into a seperate CSV\n"
      ]
    },
    {
      "cell_type": "markdown",
      "metadata": {
        "id": "aqVz6QQ4O3zi"
      },
      "source": [
        "For this lab, we are going to be using Python and several Python libraries. Some of these libraries might be installed in your lab environment or in SN Labs. Others may need to be installed by you. The cells below will install these libraries when executed.\n"
      ]
    },
    {
      "cell_type": "code",
      "execution_count": null,
      "metadata": {
        "id": "vcKsb1kfO3zi"
      },
      "outputs": [],
      "source": [
        "#!pip install glob\n",
        "#!pip install pandas\n",
        "#!pip install requests\n",
        "#!pip install datetime"
      ]
    },
    {
      "cell_type": "markdown",
      "metadata": {
        "id": "xBkB_nBWO3zk"
      },
      "source": [
        "## Imports\n",
        "\n",
        "Import any additional libraries you may need here.\n"
      ]
    },
    {
      "cell_type": "code",
      "execution_count": null,
      "metadata": {
        "id": "j07MFgkeO3zk"
      },
      "outputs": [],
      "source": [
        "import glob\n",
        "import pandas as pd\n",
        "from datetime import datetime"
      ]
    },
    {
      "cell_type": "markdown",
      "metadata": {
        "id": "yOLjXat7O3zl"
      },
      "source": [
        "As the exchange rate fluctuates, we will download the same dataset to make marking simpler. This will be in the same format as the dataset you used in the last section\n"
      ]
    },
    {
      "cell_type": "code",
      "execution_count": null,
      "metadata": {
        "id": "kugRegQZO3zm",
        "outputId": "e47188eb-8356-4a9a-f0af-1dcde6c908c6"
      },
      "outputs": [
        {
          "name": "stderr",
          "output_type": "stream",
          "text": [
            "\"wget\" no se reconoce como un comando interno o externo,\n",
            "programa o archivo por lotes ejecutable.\n",
            "\"wget\" no se reconoce como un comando interno o externo,\n",
            "programa o archivo por lotes ejecutable.\n",
            "\"wget\" no se reconoce como un comando interno o externo,\n",
            "programa o archivo por lotes ejecutable.\n"
          ]
        }
      ],
      "source": [
        "!wget https://cf-courses-data.s3.us.cloud-object-storage.appdomain.cloud/IBMDeveloperSkillsNetwork-PY0221EN-SkillsNetwork/labs/module%206/Lab%20-%20Extract%20Transform%20Load/data/bank_market_cap_1.json\n",
        "!wget https://cf-courses-data.s3.us.cloud-object-storage.appdomain.cloud/IBMDeveloperSkillsNetwork-PY0221EN-SkillsNetwork/labs/module%206/Lab%20-%20Extract%20Transform%20Load/data/bank_market_cap_2.json\n",
        "!wget https://cf-courses-data.s3.us.cloud-object-storage.appdomain.cloud/IBMDeveloperSkillsNetwork-PY0221EN-SkillsNetwork/labs/module%206/Final%20Assignment/exchange_rates.csv"
      ]
    },
    {
      "cell_type": "markdown",
      "metadata": {
        "id": "AeaOFdQDO3zn"
      },
      "source": [
        "## Extract\n"
      ]
    },
    {
      "cell_type": "markdown",
      "metadata": {
        "id": "bWopn_hhO3zn"
      },
      "source": [
        "### JSON Extract Function\n",
        "\n",
        "This function will extract JSON files.\n"
      ]
    },
    {
      "cell_type": "code",
      "execution_count": null,
      "metadata": {
        "id": "ymCl3F1QO3zn"
      },
      "outputs": [],
      "source": [
        "def extract_from_json(file_to_process):\n",
        "    dataframe = pd.read_json(file_to_process,orient='columns')\n",
        "    return dataframe"
      ]
    },
    {
      "cell_type": "markdown",
      "metadata": {
        "id": "oaVBG4EjO3zo"
      },
      "source": [
        "## Extract Function\n",
        "\n",
        "Define the extract function that finds JSON file `bank_market_cap_1.json` and calls the function created above to extract data from them. Store the data in a `pandas` dataframe. Use the following list for the columns.\n"
      ]
    },
    {
      "cell_type": "code",
      "execution_count": null,
      "metadata": {
        "id": "a7tHjyHFO3zo"
      },
      "outputs": [],
      "source": [
        "columns=['Name','Market Cap (US$ Billion)']"
      ]
    },
    {
      "cell_type": "code",
      "execution_count": null,
      "metadata": {
        "id": "Afh6WNRCO3zo",
        "outputId": "3b543cf7-4fc2-4cda-f125-2a13fc5fbb56"
      },
      "outputs": [
        {
          "data": {
            "text/html": [
              "<div>\n",
              "<style scoped>\n",
              "    .dataframe tbody tr th:only-of-type {\n",
              "        vertical-align: middle;\n",
              "    }\n",
              "\n",
              "    .dataframe tbody tr th {\n",
              "        vertical-align: top;\n",
              "    }\n",
              "\n",
              "    .dataframe thead th {\n",
              "        text-align: right;\n",
              "    }\n",
              "</style>\n",
              "<table border=\"1\" class=\"dataframe\">\n",
              "  <thead>\n",
              "    <tr style=\"text-align: right;\">\n",
              "      <th></th>\n",
              "      <th>Name</th>\n",
              "      <th>Country</th>\n",
              "      <th>Market Cap (US$ Billion)</th>\n",
              "    </tr>\n",
              "  </thead>\n",
              "  <tbody>\n",
              "    <tr>\n",
              "      <th>0</th>\n",
              "      <td>JPMorgan Chase\\n</td>\n",
              "      <td>United States</td>\n",
              "      <td>488.470</td>\n",
              "    </tr>\n",
              "    <tr>\n",
              "      <th>1</th>\n",
              "      <td>Bank of America\\n</td>\n",
              "      <td>United States</td>\n",
              "      <td>401.750</td>\n",
              "    </tr>\n",
              "    <tr>\n",
              "      <th>2</th>\n",
              "      <td>Industrial and Commercial Bank of China\\n</td>\n",
              "      <td>China</td>\n",
              "      <td>250.383</td>\n",
              "    </tr>\n",
              "    <tr>\n",
              "      <th>3</th>\n",
              "      <td>Wells Fargo\\n</td>\n",
              "      <td>United States</td>\n",
              "      <td>224.870</td>\n",
              "    </tr>\n",
              "    <tr>\n",
              "      <th>4</th>\n",
              "      <td>China Construction Bank\\n</td>\n",
              "      <td>China</td>\n",
              "      <td>257.399</td>\n",
              "    </tr>\n",
              "    <tr>\n",
              "      <th>...</th>\n",
              "      <td>...</td>\n",
              "      <td>...</td>\n",
              "      <td>...</td>\n",
              "    </tr>\n",
              "    <tr>\n",
              "      <th>66</th>\n",
              "      <td>Standard Chartered\\n</td>\n",
              "      <td>United Kingdom</td>\n",
              "      <td>37.319</td>\n",
              "    </tr>\n",
              "    <tr>\n",
              "      <th>67</th>\n",
              "      <td>United Overseas Bank\\n</td>\n",
              "      <td>Singapore</td>\n",
              "      <td>35.128</td>\n",
              "    </tr>\n",
              "    <tr>\n",
              "      <th>68</th>\n",
              "      <td>QNB Group\\n</td>\n",
              "      <td>Qatar</td>\n",
              "      <td>33.560</td>\n",
              "    </tr>\n",
              "    <tr>\n",
              "      <th>69</th>\n",
              "      <td>Bank Rakyat Indonesia\\n</td>\n",
              "      <td>Indonesia</td>\n",
              "      <td>33.081</td>\n",
              "    </tr>\n",
              "    <tr>\n",
              "      <th>70</th>\n",
              "      <td>Axis Bank\\n</td>\n",
              "      <td>India</td>\n",
              "      <td>31.680</td>\n",
              "    </tr>\n",
              "  </tbody>\n",
              "</table>\n",
              "<p>71 rows × 3 columns</p>\n",
              "</div>"
            ],
            "text/plain": [
              "                                          Name         Country  \\\n",
              "0                             JPMorgan Chase\\n   United States   \n",
              "1                            Bank of America\\n   United States   \n",
              "2    Industrial and Commercial Bank of China\\n           China   \n",
              "3                                Wells Fargo\\n   United States   \n",
              "4                    China Construction Bank\\n           China   \n",
              "..                                         ...             ...   \n",
              "66                        Standard Chartered\\n  United Kingdom   \n",
              "67                      United Overseas Bank\\n       Singapore   \n",
              "68                                 QNB Group\\n           Qatar   \n",
              "69                     Bank Rakyat Indonesia\\n       Indonesia   \n",
              "70                                 Axis Bank\\n           India   \n",
              "\n",
              "    Market Cap (US$ Billion)  \n",
              "0                    488.470  \n",
              "1                    401.750  \n",
              "2                    250.383  \n",
              "3                    224.870  \n",
              "4                    257.399  \n",
              "..                       ...  \n",
              "66                    37.319  \n",
              "67                    35.128  \n",
              "68                    33.560  \n",
              "69                    33.081  \n",
              "70                    31.680  \n",
              "\n",
              "[71 rows x 3 columns]"
            ]
          },
          "execution_count": 81,
          "metadata": {},
          "output_type": "execute_result"
        }
      ],
      "source": [
        "data_json=pd.DataFrame(columns=['Name','Country','Market Cap (US$ Billion)'])\n",
        "jsonfile='bank_market_cap.json'\n",
        "data_json=data_json.append(extract_from_json(jsonfile),ignore_index=True)\n",
        "data_json"
      ]
    },
    {
      "cell_type": "markdown",
      "metadata": {
        "id": "rDQCsyb7O3zp"
      },
      "source": [
        "<b>Question 1</b> Load the file <code>exchange_rates.csv</code> as a dataframe and find the exchange rate for British pounds with the symbol <code>GBP</code>, store it in the variable  <code>exchange_rate</code>, you will be asked for the number. Hint: set the parameter  <code>index_col</code> to 0.\n"
      ]
    },
    {
      "cell_type": "code",
      "execution_count": null,
      "metadata": {
        "id": "ozRcDY8-O3zp",
        "outputId": "94c2fd6b-6706-414c-afb6-930eaa38d13c"
      },
      "outputs": [
        {
          "data": {
            "text/plain": [
              "0.8347859999999999"
            ]
          },
          "execution_count": 4,
          "metadata": {},
          "output_type": "execute_result"
        }
      ],
      "source": [
        "\n",
        "def extract_csv():\n",
        "    csvfile='exchange_rates_1.csv'\n",
        "    data_csv=pd.read_csv(csvfile)\n",
        "    fila=data_csv.index[data_csv['pound'].str.contains(\"GBP\", case=False)]\n",
        "    exchange_rate=float(data_csv.iloc[fila]['rates'])\n",
        "    return(data_csv,exchange_rate)\n",
        "data_csv,exchange_rate=extract_csv()\n",
        "exchange_rate"
      ]
    },
    {
      "cell_type": "markdown",
      "metadata": {
        "id": "0yMk9qVlO3zq"
      },
      "source": [
        "## Transform\n",
        "\n",
        "Using <code>exchange_rate</code> and the `exchange_rates.csv` file find the exchange rate of USD to GBP. Write a transform function that\n",
        "\n",
        "1.  Changes the `Market Cap (US$ Billion)` column from USD to GBP\n",
        "2.  Rounds the Market Cap (US$ Billion)\\` column to 3 decimal places\n",
        "3.  Rename `Market Cap (US$ Billion)` to `Market Cap (GBP$ Billion)`\n"
      ]
    },
    {
      "cell_type": "code",
      "execution_count": null,
      "metadata": {
        "id": "kLFNbpINO3zq"
      },
      "outputs": [],
      "source": [
        "\n",
        "def transform():\n",
        "    fila=data_csv.index[data_csv['pound'].str.contains(\"USD\", case=False)]\n",
        "    exchange_rate_us=data_csv.iloc[fila]['rates']\n",
        "    data_json2=data_json.rename(columns={'Market Cap (US$ Billion)':'Market'})\n",
        "    data_json2['Market']=round(((data_json2.Market*float(exchange_rate))/float(exchange_rate_us)),3)\n",
        "    \n",
        "    data_json3=data_json2.rename(columns={'Market':'Market Cap (GBP$ Billion)'})\n",
        "    return(data_json3)\n",
        "\n",
        "\n"
      ]
    },
    {
      "cell_type": "markdown",
      "metadata": {
        "id": "6SqmE_LBO3zq"
      },
      "source": [
        "## Load\n",
        "\n",
        "Create a function that takes a dataframe and load it to a csv named `bank_market_cap_gbp.csv`. Make sure to set `index` to `False`.\n"
      ]
    },
    {
      "cell_type": "code",
      "execution_count": null,
      "metadata": {
        "id": "koVdyenYO3zr"
      },
      "outputs": [],
      "source": [
        "def load(nombre,data):\n",
        "    data.to_csv(nombre, index=False)\n",
        "    # Write your code here\n",
        "\n"
      ]
    },
    {
      "cell_type": "markdown",
      "metadata": {
        "id": "ODgsbL68O3zr"
      },
      "source": [
        "## Logging Function\n"
      ]
    },
    {
      "cell_type": "markdown",
      "metadata": {
        "id": "uDLtsHRHO3zr"
      },
      "source": [
        "Write the logging function <code>log</code> to log your data:\n"
      ]
    },
    {
      "cell_type": "code",
      "execution_count": null,
      "metadata": {
        "id": "8xFSl--fO3zr"
      },
      "outputs": [],
      "source": [
        "def log(mensaje):\n",
        "    times_f='%Y-%h-%d-%H:%M:%S'\n",
        "    now=datetime.now()\n",
        "    times=now.strftime(times_f)\n",
        "    with open('logfile.txt','a') as f:\n",
        "        f.write(times + ','+mensaje+'\\n')\n",
        "    "
      ]
    },
    {
      "cell_type": "markdown",
      "metadata": {
        "id": "g8VaPBeTO3zr"
      },
      "source": [
        "## Running the ETL Process\n"
      ]
    },
    {
      "cell_type": "markdown",
      "metadata": {
        "id": "duVwT7jgO3zr"
      },
      "source": [
        "Log the process accordingly using the following <code>\"ETL Job Started\"</code> and <code>\"Extract phase Started\"</code>\n"
      ]
    },
    {
      "cell_type": "code",
      "execution_count": null,
      "metadata": {
        "id": "ty8hu-0PO3zr"
      },
      "outputs": [],
      "source": [
        "log('ETL START')\n",
        "log('extract started')\n"
      ]
    },
    {
      "cell_type": "markdown",
      "metadata": {
        "id": "H6XaXEyKO3zs"
      },
      "source": [
        "### Extract\n"
      ]
    },
    {
      "cell_type": "markdown",
      "metadata": {
        "id": "TOLk9YH2O3zs"
      },
      "source": [
        "<code>Question 2</code> Use the function <code>extract</code>, and print the first 5 rows, take a screen shot:\n"
      ]
    },
    {
      "cell_type": "code",
      "execution_count": null,
      "metadata": {
        "id": "DyfEi6jrO3zs",
        "outputId": "a69fb639-8247-48a6-d54f-70dd16a06495"
      },
      "outputs": [
        {
          "data": {
            "text/html": [
              "<div>\n",
              "<style scoped>\n",
              "    .dataframe tbody tr th:only-of-type {\n",
              "        vertical-align: middle;\n",
              "    }\n",
              "\n",
              "    .dataframe tbody tr th {\n",
              "        vertical-align: top;\n",
              "    }\n",
              "\n",
              "    .dataframe thead th {\n",
              "        text-align: right;\n",
              "    }\n",
              "</style>\n",
              "<table border=\"1\" class=\"dataframe\">\n",
              "  <thead>\n",
              "    <tr style=\"text-align: right;\">\n",
              "      <th></th>\n",
              "      <th>pound</th>\n",
              "      <th>rates</th>\n",
              "    </tr>\n",
              "  </thead>\n",
              "  <tbody>\n",
              "    <tr>\n",
              "      <th>0</th>\n",
              "      <td>AED</td>\n",
              "      <td>4.193127</td>\n",
              "    </tr>\n",
              "    <tr>\n",
              "      <th>1</th>\n",
              "      <td>AFN</td>\n",
              "      <td>119.987889</td>\n",
              "    </tr>\n",
              "    <tr>\n",
              "      <th>2</th>\n",
              "      <td>ALL</td>\n",
              "      <td>121.410807</td>\n",
              "    </tr>\n",
              "    <tr>\n",
              "      <th>3</th>\n",
              "      <td>AMD</td>\n",
              "      <td>548.978433</td>\n",
              "    </tr>\n",
              "    <tr>\n",
              "      <th>4</th>\n",
              "      <td>ANG</td>\n",
              "      <td>2.056857</td>\n",
              "    </tr>\n",
              "  </tbody>\n",
              "</table>\n",
              "</div>"
            ],
            "text/plain": [
              "  pound       rates\n",
              "0   AED    4.193127\n",
              "1   AFN  119.987889\n",
              "2   ALL  121.410807\n",
              "3   AMD  548.978433\n",
              "4   ANG    2.056857"
            ]
          },
          "execution_count": 88,
          "metadata": {},
          "output_type": "execute_result"
        }
      ],
      "source": [
        "# Call the function here\n",
        "data,exchange_rate=extract_csv()\n",
        "\n",
        "# Print the rows here\n",
        "data.head()"
      ]
    },
    {
      "cell_type": "markdown",
      "metadata": {
        "id": "7LfNZ6nAO3zs"
      },
      "source": [
        "Log the data as <code>\"Extract phase Ended\"</code>\n"
      ]
    },
    {
      "cell_type": "code",
      "execution_count": null,
      "metadata": {
        "id": "silIk66SO3zs"
      },
      "outputs": [],
      "source": [
        "# Write your code here\n",
        "log('extract finished')\n"
      ]
    },
    {
      "cell_type": "markdown",
      "metadata": {
        "id": "4kKMNZttO3zs"
      },
      "source": [
        "### Transform\n"
      ]
    },
    {
      "cell_type": "markdown",
      "metadata": {
        "id": "c-JO9PRbO3zs"
      },
      "source": [
        "Log the following  <code>\"Transform phase Started\"</code>\n"
      ]
    },
    {
      "cell_type": "code",
      "execution_count": null,
      "metadata": {
        "id": "3kShHoobO3zs"
      },
      "outputs": [],
      "source": [
        "# Write your code here\n",
        "log('transform started')\n"
      ]
    },
    {
      "cell_type": "markdown",
      "metadata": {
        "id": "2ASjRj6dO3zt"
      },
      "source": [
        "<code>Question 3</code> Use the function <code>transform</code> and print the first 5 rows of the output, take a screen shot:\n"
      ]
    },
    {
      "cell_type": "code",
      "execution_count": null,
      "metadata": {
        "id": "L2wXzwkOO3zt",
        "outputId": "930dc927-acbc-49cb-d6f7-e18de07cfc28"
      },
      "outputs": [
        {
          "data": {
            "text/html": [
              "<div>\n",
              "<style scoped>\n",
              "    .dataframe tbody tr th:only-of-type {\n",
              "        vertical-align: middle;\n",
              "    }\n",
              "\n",
              "    .dataframe tbody tr th {\n",
              "        vertical-align: top;\n",
              "    }\n",
              "\n",
              "    .dataframe thead th {\n",
              "        text-align: right;\n",
              "    }\n",
              "</style>\n",
              "<table border=\"1\" class=\"dataframe\">\n",
              "  <thead>\n",
              "    <tr style=\"text-align: right;\">\n",
              "      <th></th>\n",
              "      <th>Name</th>\n",
              "      <th>Country</th>\n",
              "      <th>Market Cap (GBP$ Billion)</th>\n",
              "    </tr>\n",
              "  </thead>\n",
              "  <tbody>\n",
              "    <tr>\n",
              "      <th>0</th>\n",
              "      <td>JPMorgan Chase\\n</td>\n",
              "      <td>United States</td>\n",
              "      <td>357.186</td>\n",
              "    </tr>\n",
              "    <tr>\n",
              "      <th>1</th>\n",
              "      <td>Bank of America\\n</td>\n",
              "      <td>United States</td>\n",
              "      <td>293.774</td>\n",
              "    </tr>\n",
              "    <tr>\n",
              "      <th>2</th>\n",
              "      <td>Industrial and Commercial Bank of China\\n</td>\n",
              "      <td>China</td>\n",
              "      <td>183.089</td>\n",
              "    </tr>\n",
              "    <tr>\n",
              "      <th>3</th>\n",
              "      <td>Wells Fargo\\n</td>\n",
              "      <td>United States</td>\n",
              "      <td>164.433</td>\n",
              "    </tr>\n",
              "    <tr>\n",
              "      <th>4</th>\n",
              "      <td>China Construction Bank\\n</td>\n",
              "      <td>China</td>\n",
              "      <td>188.219</td>\n",
              "    </tr>\n",
              "  </tbody>\n",
              "</table>\n",
              "</div>"
            ],
            "text/plain": [
              "                                         Name        Country  \\\n",
              "0                            JPMorgan Chase\\n  United States   \n",
              "1                           Bank of America\\n  United States   \n",
              "2   Industrial and Commercial Bank of China\\n          China   \n",
              "3                               Wells Fargo\\n  United States   \n",
              "4                   China Construction Bank\\n          China   \n",
              "\n",
              "   Market Cap (GBP$ Billion)  \n",
              "0                    357.186  \n",
              "1                    293.774  \n",
              "2                    183.089  \n",
              "3                    164.433  \n",
              "4                    188.219  "
            ]
          },
          "execution_count": 91,
          "metadata": {},
          "output_type": "execute_result"
        }
      ],
      "source": [
        "# Call the function here\n",
        "data_t=transform()\n",
        "# Print the first 5 rows here\n",
        "data_t.head()"
      ]
    },
    {
      "cell_type": "markdown",
      "metadata": {
        "id": "YTzvOeoOO3zt"
      },
      "source": [
        "Log your data <code>\"Transform phase Ended\"</code>\n"
      ]
    },
    {
      "cell_type": "code",
      "execution_count": null,
      "metadata": {
        "id": "V-MYs2dGO3zt"
      },
      "outputs": [],
      "source": [
        "# Write your code here\n",
        "log('transform finished')\n"
      ]
    },
    {
      "cell_type": "markdown",
      "metadata": {
        "id": "I6IRyrXGO3zt"
      },
      "source": [
        "### Load\n"
      ]
    },
    {
      "cell_type": "markdown",
      "metadata": {
        "id": "gtLcfvH3O3zt"
      },
      "source": [
        "Log the following `\"Load phase Started\"`.\n"
      ]
    },
    {
      "cell_type": "code",
      "execution_count": null,
      "metadata": {
        "id": "Ck0BJzrdO3zt"
      },
      "outputs": [],
      "source": [
        "# Write your code here\n",
        "log('load started')\n"
      ]
    },
    {
      "cell_type": "markdown",
      "metadata": {
        "id": "FNX4JX7SO3zu"
      },
      "source": [
        "Call the load function\n"
      ]
    },
    {
      "cell_type": "code",
      "execution_count": null,
      "metadata": {
        "id": "QjT8IHZuO3zu"
      },
      "outputs": [],
      "source": [
        "# Write your code here\n",
        "nombre= 'bank_market_cap_gbp.csv'\n",
        "load(nombre,data_json)\n"
      ]
    },
    {
      "cell_type": "markdown",
      "metadata": {
        "id": "OW0cQ8v3O3zu"
      },
      "source": [
        "Log the following `\"Load phase Ended\"`.\n"
      ]
    },
    {
      "cell_type": "code",
      "execution_count": null,
      "metadata": {
        "id": "drv-KY8AO3zu"
      },
      "outputs": [],
      "source": [
        "# Write your code here\n",
        "log('load finished')\n",
        "log('etl ended')"
      ]
    },
    {
      "cell_type": "markdown",
      "metadata": {
        "id": "O5m2KQL9O3zu"
      },
      "source": [
        "## Authors\n"
      ]
    },
    {
      "cell_type": "markdown",
      "metadata": {
        "id": "s6mhVR_kO3zu"
      },
      "source": [
        "Ramesh Sannareddy, Joseph Santrcangelo and Azim Hirjani\n"
      ]
    },
    {
      "cell_type": "markdown",
      "metadata": {
        "id": "h6EE4MB3O3zu"
      },
      "source": [
        "### Other Contributors\n"
      ]
    },
    {
      "cell_type": "markdown",
      "metadata": {
        "id": "DDSkuk1hO3zu"
      },
      "source": [
        "Rav Ahuja\n"
      ]
    },
    {
      "cell_type": "markdown",
      "metadata": {
        "id": "FaVPIva1O3zu"
      },
      "source": [
        "## Change Log\n"
      ]
    },
    {
      "cell_type": "markdown",
      "metadata": {
        "id": "ZoykgYi2O3zu"
      },
      "source": [
        "| Date (YYYY-MM-DD) | Version | Changed By        | Change Description                 |\n",
        "| ----------------- | ------- | ----------------- | ---------------------------------- |\n",
        "| 2020-11-25        | 0.1     | Ramesh Sannareddy | Created initial version of the lab |\n"
      ]
    },
    {
      "cell_type": "markdown",
      "metadata": {
        "id": "kRFLd-fqO3zu"
      },
      "source": [
        "Copyright © 2020 IBM Corporation. This notebook and its source code are released under the terms of the [MIT License](https://cognitiveclass.ai/mit-license?utm_medium=Exinfluencer&utm_source=Exinfluencer&utm_content=000026UJ&utm_term=10006555&utm_id=NA-SkillsNetwork-Channel-SkillsNetworkCoursesIBMDeveloperSkillsNetworkPY0221ENSkillsNetwork23455645-2021-01-01&cm_mmc=Email_Newsletter-\\_-Developer_Ed%2BTech-\\_-WW_WW-\\_-SkillsNetwork-Courses-IBM-DA0321EN-SkillsNetwork-21426264&cm_mmca1=000026UJ&cm_mmca2=10006555&cm_mmca3=M12345678&cvosrc=email.Newsletter.M12345678&cvo_campaign=000026UJ).\n"
      ]
    }
  ],
  "metadata": {
    "kernelspec": {
      "display_name": "Python 3 (ipykernel)",
      "language": "python",
      "name": "python3"
    },
    "language_info": {
      "codemirror_mode": {
        "name": "ipython",
        "version": 3
      },
      "file_extension": ".py",
      "mimetype": "text/x-python",
      "name": "python",
      "nbconvert_exporter": "python",
      "pygments_lexer": "ipython3",
      "version": "3.7.0"
    },
    "colab": {
      "name": "ETL_Engineer_Peer_Review_Assignment.ipynb",
      "provenance": [],
      "include_colab_link": true
    }
  },
  "nbformat": 4,
  "nbformat_minor": 0
}