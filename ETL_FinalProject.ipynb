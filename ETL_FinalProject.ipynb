{
  "cells": [
    {
      "cell_type": "markdown",
      "metadata": {
        "id": "view-in-github",
        "colab_type": "text"
      },
      "source": [
        "<a href=\"https://colab.research.google.com/github/hadamafer/ETL-Curse-/blob/main/ETL_FinalProject.ipynb\" target=\"_parent\"><img src=\"https://colab.research.google.com/assets/colab-badge.svg\" alt=\"Open In Colab\"/></a>"
      ]
    },
    {
      "cell_type": "markdown",
      "metadata": {
        "id": "OHLDoFKlmqA3"
      },
      "source": [
        "<center>\n",
        "    <img src=\"https://gitlab.com/ibm/skills-network/courses/placeholder101/-/raw/master/labs/module%201/images/IDSNlogo.png\" width=\"300\" alt=\"cognitiveclass.ai logo\"  />\n",
        "</center>\n"
      ]
    },
    {
      "cell_type": "markdown",
      "metadata": {
        "id": "dvZRHhoimqA7"
      },
      "source": [
        "# Peer Review Assignment - Data Engineer - ETL\n"
      ]
    },
    {
      "cell_type": "markdown",
      "metadata": {
        "id": "jXfR4-jnmqA8"
      },
      "source": [
        "Estimated time needed: **20** minutes\n"
      ]
    },
    {
      "cell_type": "markdown",
      "metadata": {
        "id": "c8zYO98pmqA8"
      },
      "source": [
        "## Objectives\n",
        "\n",
        "In this final part you will:\n",
        "\n",
        "*   Run the ETL process\n",
        "*   Extract bank and market cap data from the JSON file `bank_market_cap.json`\n",
        "*   Transform the market cap currency using the exchange rate data\n",
        "*   Load the transformed data into a seperate CSV\n"
      ]
    },
    {
      "cell_type": "markdown",
      "metadata": {
        "id": "SPf9_rY9mqA9"
      },
      "source": [
        "For this lab, we are going to be using Python and several Python libraries. Some of these libraries might be installed in your lab environment or in SN Labs. Others may need to be installed by you. The cells below will install these libraries when executed.\n"
      ]
    },
    {
      "cell_type": "code",
      "execution_count": null,
      "metadata": {
        "id": "5mGh1onLmqA9"
      },
      "outputs": [],
      "source": [
        "#!pip install glob\n",
        "#!pip install pandas\n",
        "#!pip install requests\n",
        "#!pip install datetime"
      ]
    },
    {
      "cell_type": "markdown",
      "metadata": {
        "id": "ViIAjc54mqA-"
      },
      "source": [
        "## Imports\n",
        "\n",
        "Import any additional libraries you may need here.\n"
      ]
    },
    {
      "cell_type": "code",
      "execution_count": null,
      "metadata": {
        "id": "Q0wuXGPfmqA-"
      },
      "outputs": [],
      "source": [
        "import glob\n",
        "import pandas as pd\n",
        "from datetime import datetime"
      ]
    },
    {
      "cell_type": "markdown",
      "metadata": {
        "id": "Qv6CCPHvmqA_"
      },
      "source": [
        "As the exchange rate fluctuates, we will download the same dataset to make marking simpler. This will be in the same format as the dataset you used in the last section\n"
      ]
    },
    {
      "cell_type": "code",
      "execution_count": null,
      "metadata": {
        "id": "mj79DkvtmqA_",
        "outputId": "3186736a-928a-499a-b78e-1872bfa1fe42"
      },
      "outputs": [
        {
          "name": "stderr",
          "output_type": "stream",
          "text": [
            "\"wget\" no se reconoce como un comando interno o externo,\n",
            "programa o archivo por lotes ejecutable.\n",
            "\"wget\" no se reconoce como un comando interno o externo,\n",
            "programa o archivo por lotes ejecutable.\n",
            "\"wget\" no se reconoce como un comando interno o externo,\n",
            "programa o archivo por lotes ejecutable.\n"
          ]
        }
      ],
      "source": [
        "!wget https://cf-courses-data.s3.us.cloud-object-storage.appdomain.cloud/IBMDeveloperSkillsNetwork-PY0221EN-SkillsNetwork/labs/module%206/Lab%20-%20Extract%20Transform%20Load/data/bank_market_cap_1.json\n",
        "!wget https://cf-courses-data.s3.us.cloud-object-storage.appdomain.cloud/IBMDeveloperSkillsNetwork-PY0221EN-SkillsNetwork/labs/module%206/Lab%20-%20Extract%20Transform%20Load/data/bank_market_cap_2.json\n",
        "!wget https://cf-courses-data.s3.us.cloud-object-storage.appdomain.cloud/IBMDeveloperSkillsNetwork-PY0221EN-SkillsNetwork/labs/module%206/Final%20Assignment/exchange_rates.csv"
      ]
    },
    {
      "cell_type": "markdown",
      "metadata": {
        "id": "KVeMGoyNmqBA"
      },
      "source": [
        "## Extract\n"
      ]
    },
    {
      "cell_type": "markdown",
      "metadata": {
        "id": "AjegBQWImqBA"
      },
      "source": [
        "### JSON Extract Function\n",
        "\n",
        "This function will extract JSON files.\n"
      ]
    },
    {
      "cell_type": "code",
      "execution_count": null,
      "metadata": {
        "id": "6TOeouU6mqBA"
      },
      "outputs": [],
      "source": [
        "def extract_from_json(file_to_process):\n",
        "    dataframe = pd.read_json(file_to_process,orient='columns')\n",
        "    return dataframe"
      ]
    },
    {
      "cell_type": "markdown",
      "metadata": {
        "id": "wshse4YAmqBA"
      },
      "source": [
        "## Extract Function\n",
        "\n",
        "Define the extract function that finds JSON file `bank_market_cap_1.json` and calls the function created above to extract data from them. Store the data in a `pandas` dataframe. Use the following list for the columns.\n"
      ]
    },
    {
      "cell_type": "code",
      "execution_count": null,
      "metadata": {
        "id": "EVT5JBUEmqBA"
      },
      "outputs": [],
      "source": [
        "columns=['Name','Market Cap (US$ Billion)']"
      ]
    },
    {
      "cell_type": "code",
      "execution_count": null,
      "metadata": {
        "id": "a_MI8aq9mqBB"
      },
      "outputs": [],
      "source": [
        "def extract():\n",
        "    data_json=pd.DataFrame(columns=['Name','Country','Market Cap (US$ Billion)'])\n",
        "    jsonfile='bank_market_cap.json'\n",
        "    data_json=data_json.append(extract_from_json(jsonfile),ignore_index=True)\n",
        "    return(data_json)\n"
      ]
    },
    {
      "cell_type": "markdown",
      "metadata": {
        "id": "u6dnyMoCmqBB"
      },
      "source": [
        "<b>Question 1</b> Load the file <code>exchange_rates.csv</code> as a dataframe and find the exchange rate for British pounds with the symbol <code>GBP</code>, store it in the variable  <code>exchange_rate</code>, you will be asked for the number. Hint: set the parameter  <code>index_col</code> to 0.\n"
      ]
    },
    {
      "cell_type": "code",
      "execution_count": null,
      "metadata": {
        "id": "oL21yOupmqBB"
      },
      "outputs": [],
      "source": [
        "csvfile='exchange_rates_1.csv'\n",
        "data_csv=pd.read_csv(csvfile)\n",
        "fila=data_csv.index[data_csv['pound'].str.contains(\"GBP\", case=False)]\n",
        "exchange_rate=float(data_csv.iloc[fila]['rates'])\n"
      ]
    },
    {
      "cell_type": "markdown",
      "metadata": {
        "id": "CF3HEjp2mqBB"
      },
      "source": [
        "## Transform\n",
        "\n",
        "Using <code>exchange_rate</code> and the `exchange_rates.csv` file find the exchange rate of USD to GBP. Write a transform function that\n",
        "\n",
        "1.  Changes the `Market Cap (US$ Billion)` column from USD to GBP\n",
        "2.  Rounds the Market Cap (US$ Billion)\\` column to 3 decimal places\n",
        "3.  Rename `Market Cap (US$ Billion)` to `Market Cap (GBP$ Billion)`\n"
      ]
    },
    {
      "cell_type": "code",
      "execution_count": null,
      "metadata": {
        "id": "-DRaJErBmqBB"
      },
      "outputs": [],
      "source": [
        "\n",
        "def transform():\n",
        "    fila=data_csv.index[data_csv['pound'].str.contains(\"USD\", case=False)]\n",
        "    exchange_rate_us=data_csv.iloc[fila]['rates']\n",
        "    data_json2=data_json.rename(columns={'Market Cap (US$ Billion)':'Market'})\n",
        "    data_json2['Market']=round(((data_json2.Market*float(exchange_rate))*float(exchange_rate_us)),3)\n",
        "    \n",
        "    data_json3=data_json2.rename(columns={'Market':'Market Cap (GBP$ Billion)'})\n",
        "    return(data_json3)\n",
        "\n"
      ]
    },
    {
      "cell_type": "markdown",
      "metadata": {
        "id": "8dgRCzOBmqBC"
      },
      "source": [
        "## Load\n",
        "\n",
        "Create a function that takes a dataframe and load it to a csv named `bank_market_cap_gbp.csv`. Make sure to set `index` to `False`.\n"
      ]
    },
    {
      "cell_type": "code",
      "execution_count": null,
      "metadata": {
        "id": "vbdHw33umqBC"
      },
      "outputs": [],
      "source": [
        "def load(nombre,data):\n",
        "    data.to_csv(nombre, index=False)\n",
        "    # Write your code here\n",
        "\n"
      ]
    },
    {
      "cell_type": "markdown",
      "metadata": {
        "id": "Z-ZuymOwmqBC"
      },
      "source": [
        "## Logging Function\n"
      ]
    },
    {
      "cell_type": "markdown",
      "metadata": {
        "id": "3Nsu24LJmqBC"
      },
      "source": [
        "Write the logging function <code>log</code> to log your data:\n"
      ]
    },
    {
      "cell_type": "code",
      "execution_count": null,
      "metadata": {
        "id": "Ii9ccGukmqBC"
      },
      "outputs": [],
      "source": [
        "def log(mensaje):\n",
        "    times_f='%Y-%h-%d-%H:%M:%S'\n",
        "    now=datetime.now()\n",
        "    times=now.strftime(times_f)\n",
        "    with open('logfile.txt','a') as f:\n",
        "        f.write(times + ','+mensaje+'\\n')\n",
        "    "
      ]
    },
    {
      "cell_type": "markdown",
      "metadata": {
        "id": "OO2DvRrGmqBC"
      },
      "source": [
        "## Running the ETL Process\n"
      ]
    },
    {
      "cell_type": "markdown",
      "metadata": {
        "id": "LQW5bUj0mqBC"
      },
      "source": [
        "Log the process accordingly using the following <code>\"ETL Job Started\"</code> and <code>\"Extract phase Started\"</code>\n"
      ]
    },
    {
      "cell_type": "code",
      "execution_count": null,
      "metadata": {
        "id": "a-Xs3ey6mqBC"
      },
      "outputs": [],
      "source": [
        "log('ETL START')\n",
        "log('extract started')\n"
      ]
    },
    {
      "cell_type": "markdown",
      "metadata": {
        "id": "ZWqa_BgCmqBD"
      },
      "source": [
        "### Extract\n"
      ]
    },
    {
      "cell_type": "markdown",
      "metadata": {
        "id": "yqRKiquvmqBD"
      },
      "source": [
        "<code>Question 2</code> Use the function <code>extract</code>, and print the first 5 rows, take a screen shot:\n"
      ]
    },
    {
      "cell_type": "code",
      "execution_count": null,
      "metadata": {
        "id": "8FAv3a7zmqBD",
        "outputId": "a86f965f-7cc8-4b13-d793-7b733b3ab698"
      },
      "outputs": [
        {
          "data": {
            "text/html": [
              "<div>\n",
              "<style scoped>\n",
              "    .dataframe tbody tr th:only-of-type {\n",
              "        vertical-align: middle;\n",
              "    }\n",
              "\n",
              "    .dataframe tbody tr th {\n",
              "        vertical-align: top;\n",
              "    }\n",
              "\n",
              "    .dataframe thead th {\n",
              "        text-align: right;\n",
              "    }\n",
              "</style>\n",
              "<table border=\"1\" class=\"dataframe\">\n",
              "  <thead>\n",
              "    <tr style=\"text-align: right;\">\n",
              "      <th></th>\n",
              "      <th>Name</th>\n",
              "      <th>Country</th>\n",
              "      <th>Market Cap (US$ Billion)</th>\n",
              "    </tr>\n",
              "  </thead>\n",
              "  <tbody>\n",
              "    <tr>\n",
              "      <th>0</th>\n",
              "      <td>JPMorgan Chase\\n</td>\n",
              "      <td>United States</td>\n",
              "      <td>488.470</td>\n",
              "    </tr>\n",
              "    <tr>\n",
              "      <th>1</th>\n",
              "      <td>Bank of America\\n</td>\n",
              "      <td>United States</td>\n",
              "      <td>401.750</td>\n",
              "    </tr>\n",
              "    <tr>\n",
              "      <th>2</th>\n",
              "      <td>Industrial and Commercial Bank of China\\n</td>\n",
              "      <td>China</td>\n",
              "      <td>250.383</td>\n",
              "    </tr>\n",
              "    <tr>\n",
              "      <th>3</th>\n",
              "      <td>Wells Fargo\\n</td>\n",
              "      <td>United States</td>\n",
              "      <td>224.870</td>\n",
              "    </tr>\n",
              "    <tr>\n",
              "      <th>4</th>\n",
              "      <td>China Construction Bank\\n</td>\n",
              "      <td>China</td>\n",
              "      <td>257.399</td>\n",
              "    </tr>\n",
              "  </tbody>\n",
              "</table>\n",
              "</div>"
            ],
            "text/plain": [
              "                                         Name        Country  \\\n",
              "0                            JPMorgan Chase\\n  United States   \n",
              "1                           Bank of America\\n  United States   \n",
              "2   Industrial and Commercial Bank of China\\n          China   \n",
              "3                               Wells Fargo\\n  United States   \n",
              "4                   China Construction Bank\\n          China   \n",
              "\n",
              "   Market Cap (US$ Billion)  \n",
              "0                   488.470  \n",
              "1                   401.750  \n",
              "2                   250.383  \n",
              "3                   224.870  \n",
              "4                   257.399  "
            ]
          },
          "execution_count": 35,
          "metadata": {},
          "output_type": "execute_result"
        }
      ],
      "source": [
        "# Call the function here\n",
        "data_json=extract()\n",
        "\n",
        "# Print the rows here\n",
        "data_json.head()"
      ]
    },
    {
      "cell_type": "markdown",
      "metadata": {
        "id": "9ACFaA6PmqBD"
      },
      "source": [
        "Log the data as <code>\"Extract phase Ended\"</code>\n"
      ]
    },
    {
      "cell_type": "code",
      "execution_count": null,
      "metadata": {
        "id": "L_2npsgjmqBD"
      },
      "outputs": [],
      "source": [
        "# Write your code here\n",
        "log('extract finished')\n"
      ]
    },
    {
      "cell_type": "markdown",
      "metadata": {
        "id": "5_7dqoD2mqBD"
      },
      "source": [
        "### Transform\n"
      ]
    },
    {
      "cell_type": "markdown",
      "metadata": {
        "id": "zylyyvDKmqBD"
      },
      "source": [
        "Log the following  <code>\"Transform phase Started\"</code>\n"
      ]
    },
    {
      "cell_type": "code",
      "execution_count": null,
      "metadata": {
        "id": "btNrW2sWmqBD"
      },
      "outputs": [],
      "source": [
        "# Write your code here\n",
        "log('transform started')\n"
      ]
    },
    {
      "cell_type": "markdown",
      "metadata": {
        "id": "9UK_wMHMmqBD"
      },
      "source": [
        "<code>Question 3</code> Use the function <code>transform</code> and print the first 5 rows of the output, take a screen shot:\n"
      ]
    },
    {
      "cell_type": "code",
      "execution_count": null,
      "metadata": {
        "id": "C1W6oNHdmqBD",
        "outputId": "918586bc-0f8e-4968-93e9-77af9a6d3a7a"
      },
      "outputs": [
        {
          "data": {
            "text/html": [
              "<div>\n",
              "<style scoped>\n",
              "    .dataframe tbody tr th:only-of-type {\n",
              "        vertical-align: middle;\n",
              "    }\n",
              "\n",
              "    .dataframe tbody tr th {\n",
              "        vertical-align: top;\n",
              "    }\n",
              "\n",
              "    .dataframe thead th {\n",
              "        text-align: right;\n",
              "    }\n",
              "</style>\n",
              "<table border=\"1\" class=\"dataframe\">\n",
              "  <thead>\n",
              "    <tr style=\"text-align: right;\">\n",
              "      <th></th>\n",
              "      <th>Name</th>\n",
              "      <th>Country</th>\n",
              "      <th>Market Cap (GBP$ Billion)</th>\n",
              "    </tr>\n",
              "  </thead>\n",
              "  <tbody>\n",
              "    <tr>\n",
              "      <th>0</th>\n",
              "      <td>JPMorgan Chase\\n</td>\n",
              "      <td>United States</td>\n",
              "      <td>465.512</td>\n",
              "    </tr>\n",
              "    <tr>\n",
              "      <th>1</th>\n",
              "      <td>Bank of America\\n</td>\n",
              "      <td>United States</td>\n",
              "      <td>382.868</td>\n",
              "    </tr>\n",
              "    <tr>\n",
              "      <th>2</th>\n",
              "      <td>Industrial and Commercial Bank of China\\n</td>\n",
              "      <td>China</td>\n",
              "      <td>238.615</td>\n",
              "    </tr>\n",
              "    <tr>\n",
              "      <th>3</th>\n",
              "      <td>Wells Fargo\\n</td>\n",
              "      <td>United States</td>\n",
              "      <td>214.301</td>\n",
              "    </tr>\n",
              "    <tr>\n",
              "      <th>4</th>\n",
              "      <td>China Construction Bank\\n</td>\n",
              "      <td>China</td>\n",
              "      <td>245.301</td>\n",
              "    </tr>\n",
              "  </tbody>\n",
              "</table>\n",
              "</div>"
            ],
            "text/plain": [
              "                                         Name        Country  \\\n",
              "0                            JPMorgan Chase\\n  United States   \n",
              "1                           Bank of America\\n  United States   \n",
              "2   Industrial and Commercial Bank of China\\n          China   \n",
              "3                               Wells Fargo\\n  United States   \n",
              "4                   China Construction Bank\\n          China   \n",
              "\n",
              "   Market Cap (GBP$ Billion)  \n",
              "0                    465.512  \n",
              "1                    382.868  \n",
              "2                    238.615  \n",
              "3                    214.301  \n",
              "4                    245.301  "
            ]
          },
          "execution_count": 36,
          "metadata": {},
          "output_type": "execute_result"
        }
      ],
      "source": [
        "# Call the function here\n",
        "data_json=transform()\n",
        "# Print the first 5 rows here\n",
        "data_json.head()"
      ]
    },
    {
      "cell_type": "markdown",
      "metadata": {
        "id": "kODmq8yYmqBE"
      },
      "source": [
        "Log your data <code>\"Transform phase Ended\"</code>\n"
      ]
    },
    {
      "cell_type": "code",
      "execution_count": null,
      "metadata": {
        "id": "Wo4-ZOdzmqBE"
      },
      "outputs": [],
      "source": [
        "# Write your code here\n",
        "log('transform finished')\n"
      ]
    },
    {
      "cell_type": "markdown",
      "metadata": {
        "id": "G9-jeEBsmqBE"
      },
      "source": [
        "### Load\n"
      ]
    },
    {
      "cell_type": "markdown",
      "metadata": {
        "id": "62wV3EuPmqBE"
      },
      "source": [
        "Log the following `\"Load phase Started\"`.\n"
      ]
    },
    {
      "cell_type": "code",
      "execution_count": null,
      "metadata": {
        "id": "K8KKcgGWmqBE"
      },
      "outputs": [],
      "source": [
        "# Write your code here\n",
        "log('load started')\n"
      ]
    },
    {
      "cell_type": "markdown",
      "metadata": {
        "id": "R4bnzOr4mqBE"
      },
      "source": [
        "Call the load function\n"
      ]
    },
    {
      "cell_type": "code",
      "execution_count": null,
      "metadata": {
        "id": "81G3nLjKmqBE"
      },
      "outputs": [],
      "source": [
        "# Write your code here\n",
        "nombre= 'bank_market_cap_gbp.csv'\n",
        "load(nombre,data_json)\n"
      ]
    },
    {
      "cell_type": "markdown",
      "metadata": {
        "id": "lIBo_ahHmqBE"
      },
      "source": [
        "Log the following `\"Load phase Ended\"`.\n"
      ]
    },
    {
      "cell_type": "code",
      "execution_count": null,
      "metadata": {
        "id": "VaEoC2zlmqBE"
      },
      "outputs": [],
      "source": [
        "# Write your code here\n",
        "log('load finished')\n",
        "log('etl ended')"
      ]
    },
    {
      "cell_type": "markdown",
      "metadata": {
        "id": "1RI-7pY7mqBE"
      },
      "source": [
        "## Authors\n"
      ]
    },
    {
      "cell_type": "markdown",
      "metadata": {
        "id": "Pnrql6RXmqBE"
      },
      "source": [
        "Ramesh Sannareddy, Joseph Santrcangelo and Azim Hirjani\n"
      ]
    },
    {
      "cell_type": "markdown",
      "metadata": {
        "id": "JFAZjBW7mqBE"
      },
      "source": [
        "### Other Contributors\n"
      ]
    },
    {
      "cell_type": "markdown",
      "metadata": {
        "id": "Kd7-yPbFmqBE"
      },
      "source": [
        "Rav Ahuja\n"
      ]
    },
    {
      "cell_type": "markdown",
      "metadata": {
        "id": "n0a9_gRSmqBF"
      },
      "source": [
        "## Change Log\n"
      ]
    },
    {
      "cell_type": "markdown",
      "metadata": {
        "id": "T2U5_1p1mqBF"
      },
      "source": [
        "| Date (YYYY-MM-DD) | Version | Changed By        | Change Description                 |\n",
        "| ----------------- | ------- | ----------------- | ---------------------------------- |\n",
        "| 2020-11-25        | 0.1     | Ramesh Sannareddy | Created initial version of the lab |\n"
      ]
    },
    {
      "cell_type": "markdown",
      "metadata": {
        "id": "1V--UgBFmqBF"
      },
      "source": [
        "Copyright © 2020 IBM Corporation. This notebook and its source code are released under the terms of the [MIT License](https://cognitiveclass.ai/mit-license?utm_medium=Exinfluencer&utm_source=Exinfluencer&utm_content=000026UJ&utm_term=10006555&utm_id=NA-SkillsNetwork-Channel-SkillsNetworkCoursesIBMDeveloperSkillsNetworkPY0221ENSkillsNetwork23455645-2021-01-01&cm_mmc=Email_Newsletter-\\_-Developer_Ed%2BTech-\\_-WW_WW-\\_-SkillsNetwork-Courses-IBM-DA0321EN-SkillsNetwork-21426264&cm_mmca1=000026UJ&cm_mmca2=10006555&cm_mmca3=M12345678&cvosrc=email.Newsletter.M12345678&cvo_campaign=000026UJ).\n"
      ]
    }
  ],
  "metadata": {
    "kernelspec": {
      "display_name": "Python 3 (ipykernel)",
      "language": "python",
      "name": "python3"
    },
    "language_info": {
      "codemirror_mode": {
        "name": "ipython",
        "version": 3
      },
      "file_extension": ".py",
      "mimetype": "text/x-python",
      "name": "python",
      "nbconvert_exporter": "python",
      "pygments_lexer": "ipython3",
      "version": "3.7.0"
    },
    "colab": {
      "name": "ETL_Engineer_Peer_Review_Assignment.ipynb",
      "provenance": [],
      "include_colab_link": true
    }
  },
  "nbformat": 4,
  "nbformat_minor": 0
}