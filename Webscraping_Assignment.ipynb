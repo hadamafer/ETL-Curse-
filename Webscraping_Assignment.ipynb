{
  "cells": [
    {
      "cell_type": "markdown",
      "metadata": {
        "id": "view-in-github",
        "colab_type": "text"
      },
      "source": [
        "<a href=\"https://colab.research.google.com/github/hadamafer/ETL-Curse-/blob/main/Webscraping_Assignment.ipynb\" target=\"_parent\"><img src=\"https://colab.research.google.com/assets/colab-badge.svg\" alt=\"Open In Colab\"/></a>"
      ]
    },
    {
      "cell_type": "markdown",
      "metadata": {
        "id": "PwZ-7ZvzMZPT"
      },
      "source": [
        "<center>\n",
        "    <img src=\"https://gitlab.com/ibm/skills-network/courses/placeholder101/-/raw/master/labs/module%201/images/IDSNlogo.png\" width=\"300\" alt=\"cognitiveclass.ai logo\"  />\n",
        "</center>\n"
      ]
    },
    {
      "cell_type": "markdown",
      "metadata": {
        "id": "mmYAREO0MZPY"
      },
      "source": [
        "# Peer Review Assignment - Data Engineer - Webscraping\n"
      ]
    },
    {
      "cell_type": "markdown",
      "metadata": {
        "id": "vE-U5mP5MZPZ"
      },
      "source": [
        "Estimated time needed: **20** minutes\n"
      ]
    },
    {
      "cell_type": "markdown",
      "metadata": {
        "id": "qDNeRosYMZPZ"
      },
      "source": [
        "## Objectives\n",
        "\n",
        "In this part you will:\n",
        "\n",
        "*   Use webscraping to get bank information\n"
      ]
    },
    {
      "cell_type": "markdown",
      "metadata": {
        "id": "7EQ_BAjjMZPa"
      },
      "source": [
        "For this lab, we are going to be using Python and several Python libraries. Some of these libraries might be installed in your lab environment or in SN Labs. Others may need to be installed by you. The cells below will install these libraries when executed.\n"
      ]
    },
    {
      "cell_type": "code",
      "execution_count": null,
      "metadata": {
        "id": "DO0fxgmQMZPb",
        "outputId": "5399fe3b-3562-4569-ea1a-c7de7341f29f"
      },
      "outputs": [
        {
          "name": "stdout",
          "output_type": "stream",
          "text": [
            "Requirement already satisfied: bs4 in c:\\users\\ferna\\appdata\\local\\programs\\python\\python37\\lib\\site-packages (0.0.1)\n",
            "Requirement already satisfied: beautifulsoup4 in c:\\users\\ferna\\appdata\\local\\programs\\python\\python37\\lib\\site-packages (from bs4) (4.10.0)\n",
            "Requirement already satisfied: soupsieve>1.2 in c:\\users\\ferna\\appdata\\local\\programs\\python\\python37\\lib\\site-packages (from beautifulsoup4->bs4) (2.3.1)\n"
          ]
        }
      ],
      "source": [
        "#!pip install pandas\n",
        "!pip install bs4\n",
        "#!pip install requests"
      ]
    },
    {
      "cell_type": "markdown",
      "metadata": {
        "id": "Ln2fEPT-MZPd"
      },
      "source": [
        "## Imports\n",
        "\n",
        "Import any additional libraries you may need here.\n"
      ]
    },
    {
      "cell_type": "code",
      "execution_count": null,
      "metadata": {
        "id": "h8U9ygqDMZPe"
      },
      "outputs": [],
      "source": [
        "from bs4 import BeautifulSoup\n",
        "import requests\n",
        "import pandas as pd"
      ]
    },
    {
      "cell_type": "markdown",
      "metadata": {
        "id": "3A5M9SWkMZPf"
      },
      "source": [
        "### Extract Data Using Web Scraping\n"
      ]
    },
    {
      "cell_type": "markdown",
      "metadata": {
        "id": "ZYIoJEWqMZPg"
      },
      "source": [
        "The wikipedia webpage [https://en.wikipedia.org/wiki/List_of_largest_banks](https://en.wikipedia.org/wiki/List_of_largest_banks?utm_medium=Exinfluencer&utm_source=Exinfluencer&utm_content=000026UJ&utm_term=10006555&utm_id=NA-SkillsNetwork-Channel-SkillsNetworkCoursesIBMDeveloperSkillsNetworkPY0221ENSkillsNetwork23455645-2021-01-01) provides information about largest banks in the world by various parameters. Scrape the data from the table 'By market capitalization' and store it in a JSON file.\n"
      ]
    },
    {
      "cell_type": "markdown",
      "metadata": {
        "id": "gdGjG0wNMZPh"
      },
      "source": [
        "### Webpage Contents\n",
        "\n",
        "Gather the contents of the webpage in text format using the `requests` library and assign it to the variable <code>html_data</code>\n"
      ]
    },
    {
      "cell_type": "code",
      "execution_count": null,
      "metadata": {
        "id": "Fw_0awDtMZPi"
      },
      "outputs": [],
      "source": [
        "#Write your code here\n",
        "data=requests.get('https://en.wikipedia.org/wiki/List_of_largest_banks').text"
      ]
    },
    {
      "cell_type": "markdown",
      "metadata": {
        "id": "6_1OX06AMZPi"
      },
      "source": [
        "<b>Question 1</b> Print out the output of the following line, and remember it as it will be a quiz question:\n"
      ]
    },
    {
      "cell_type": "code",
      "execution_count": null,
      "metadata": {
        "id": "5e76KMcvMZPi",
        "outputId": "421e7db7-6883-4b87-f72b-cb43af0a649a"
      },
      "outputs": [
        {
          "data": {
            "text/plain": [
              "'List of largest banks -'"
            ]
          },
          "execution_count": 7,
          "metadata": {},
          "output_type": "execute_result"
        }
      ],
      "source": [
        "data[101:124]"
      ]
    },
    {
      "cell_type": "markdown",
      "metadata": {
        "id": "IJJbSr0uMZPj"
      },
      "source": [
        "### Scraping the Data\n",
        "\n",
        "<b> Question 2</b> Using the contents and `beautiful soup` load the data from the `By market capitalization` table into a `pandas` dataframe. The dataframe should have the country `Name` and `Market Cap (US$ Billion)` as column names.  Display the first five rows using head.\n"
      ]
    },
    {
      "cell_type": "markdown",
      "metadata": {
        "id": "o83QNONMMZPj"
      },
      "source": [
        "Using BeautifulSoup parse the contents of the webpage.\n"
      ]
    },
    {
      "cell_type": "code",
      "execution_count": null,
      "metadata": {
        "id": "fm_TcwBRMZPj"
      },
      "outputs": [],
      "source": [
        "#Replace the dots below\n",
        "soup=BeautifulSoup(data,'html.parser')\n"
      ]
    },
    {
      "cell_type": "markdown",
      "metadata": {
        "id": "YXkErTPyMZPk"
      },
      "source": [
        "Load the data from the `By market capitalization` table into a pandas dataframe. The dataframe should have the country `Name` and `Market Cap (US$ Billion)` as column names. Using the empty dataframe `data` and the given loop extract the necessary data from each row and append it to the empty dataframe.\n"
      ]
    },
    {
      "cell_type": "code",
      "execution_count": null,
      "metadata": {
        "id": "sQwJfsJpMZPk"
      },
      "outputs": [],
      "source": [
        "data = pd.DataFrame(columns=[\"Name\", 'Country',\"Market Cap (US$ Billion)\"])\n",
        "\n",
        "for row in soup.find_all('tbody')[3].find_all('tr'):\n",
        "    col = row.find_all('td')\n",
        "    if col!=[]:\n",
        "        country=col[1].a\n",
        "        country2=country.get('title')\n",
        "        name = col[1].text\n",
        "        cap = col[2].text.strip()\n",
        "        data=data.append({'Name':name,'Country':country2,'Market Cap (US$ Billion)':cap}, ignore_index=True)\n",
        "    #Write your code here"
      ]
    },
    {
      "cell_type": "markdown",
      "metadata": {
        "id": "Ncuu2-DpMZPk"
      },
      "source": [
        "**Question 3** Display the first five rows using the `head` function.\n"
      ]
    },
    {
      "cell_type": "code",
      "execution_count": null,
      "metadata": {
        "id": "9nsV7JZIMZPl",
        "outputId": "202d6fef-54c0-4979-ae74-b9f942736fd7"
      },
      "outputs": [
        {
          "data": {
            "text/html": [
              "<div>\n",
              "<style scoped>\n",
              "    .dataframe tbody tr th:only-of-type {\n",
              "        vertical-align: middle;\n",
              "    }\n",
              "\n",
              "    .dataframe tbody tr th {\n",
              "        vertical-align: top;\n",
              "    }\n",
              "\n",
              "    .dataframe thead th {\n",
              "        text-align: right;\n",
              "    }\n",
              "</style>\n",
              "<table border=\"1\" class=\"dataframe\">\n",
              "  <thead>\n",
              "    <tr style=\"text-align: right;\">\n",
              "      <th></th>\n",
              "      <th>Name</th>\n",
              "      <th>Country</th>\n",
              "      <th>Market Cap (US$ Billion)</th>\n",
              "    </tr>\n",
              "  </thead>\n",
              "  <tbody>\n",
              "    <tr>\n",
              "      <th>0</th>\n",
              "      <td>JPMorgan Chase\\n</td>\n",
              "      <td>United States</td>\n",
              "      <td>488.470</td>\n",
              "    </tr>\n",
              "    <tr>\n",
              "      <th>1</th>\n",
              "      <td>Bank of America\\n</td>\n",
              "      <td>United States</td>\n",
              "      <td>401.75</td>\n",
              "    </tr>\n",
              "    <tr>\n",
              "      <th>2</th>\n",
              "      <td>Industrial and Commercial Bank of China\\n</td>\n",
              "      <td>China</td>\n",
              "      <td>250.383</td>\n",
              "    </tr>\n",
              "    <tr>\n",
              "      <th>3</th>\n",
              "      <td>Wells Fargo\\n</td>\n",
              "      <td>United States</td>\n",
              "      <td>224.87</td>\n",
              "    </tr>\n",
              "    <tr>\n",
              "      <th>4</th>\n",
              "      <td>China Construction Bank\\n</td>\n",
              "      <td>China</td>\n",
              "      <td>257.399</td>\n",
              "    </tr>\n",
              "  </tbody>\n",
              "</table>\n",
              "</div>"
            ],
            "text/plain": [
              "                                         Name        Country  \\\n",
              "0                            JPMorgan Chase\\n  United States   \n",
              "1                           Bank of America\\n  United States   \n",
              "2   Industrial and Commercial Bank of China\\n          China   \n",
              "3                               Wells Fargo\\n  United States   \n",
              "4                   China Construction Bank\\n          China   \n",
              "\n",
              "  Market Cap (US$ Billion)  \n",
              "0                  488.470  \n",
              "1                   401.75  \n",
              "2                  250.383  \n",
              "3                   224.87  \n",
              "4                  257.399  "
            ]
          },
          "execution_count": 55,
          "metadata": {},
          "output_type": "execute_result"
        }
      ],
      "source": [
        "#Write your code here\n",
        "data.head()"
      ]
    },
    {
      "cell_type": "markdown",
      "metadata": {
        "id": "J7QjKYqBMZPl"
      },
      "source": [
        "### Loading the Data\n",
        "\n",
        "Usually you will Load the `pandas` dataframe created above into a JSON named `bank_market_cap.json` using the `to_json()` function, but this time the data will be sent to another team who will split the data file into two files and inspect it. If you save the data it will interfere with the next part of the assignment.\n"
      ]
    },
    {
      "cell_type": "code",
      "execution_count": null,
      "metadata": {
        "id": "sDa1WwiVMZPl"
      },
      "outputs": [],
      "source": [
        "#Write your code here\n",
        "x=data.to_json('bank_market_cap.json')\n"
      ]
    },
    {
      "cell_type": "markdown",
      "metadata": {
        "id": "yRPPBWBCMZPl"
      },
      "source": [
        "## Authors\n"
      ]
    },
    {
      "cell_type": "markdown",
      "metadata": {
        "id": "_01I3cHdMZPm"
      },
      "source": [
        "Ramesh Sannareddy, Joseph Santarcangelo and Azim Hirjani\n"
      ]
    },
    {
      "cell_type": "markdown",
      "metadata": {
        "id": "oL3Ftm2vMZPm"
      },
      "source": [
        "### Other Contributors\n"
      ]
    },
    {
      "cell_type": "markdown",
      "metadata": {
        "id": "kEtVKbtEMZPm"
      },
      "source": [
        "Rav Ahuja\n"
      ]
    },
    {
      "cell_type": "markdown",
      "metadata": {
        "id": "K1YeVwQTMZPm"
      },
      "source": [
        "## Change Log\n"
      ]
    },
    {
      "cell_type": "markdown",
      "metadata": {
        "id": "u8hG-_fPMZPm"
      },
      "source": [
        "| Date (YYYY-MM-DD) | Version | Changed By        | Change Description                 |\n",
        "| ----------------- | ------- | ----------------- | ---------------------------------- |\n",
        "| 2020-11-25        | 0.1     | Ramesh Sannareddy | Created initial version of the lab |\n"
      ]
    },
    {
      "cell_type": "markdown",
      "metadata": {
        "id": "IxQchVHyMZPm"
      },
      "source": [
        "Copyright © 2020 IBM Corporation.\n"
      ]
    }
  ],
  "metadata": {
    "kernelspec": {
      "display_name": "Python 3 (ipykernel)",
      "language": "python",
      "name": "python3"
    },
    "language_info": {
      "codemirror_mode": {
        "name": "ipython",
        "version": 3
      },
      "file_extension": ".py",
      "mimetype": "text/x-python",
      "name": "python",
      "nbconvert_exporter": "python",
      "pygments_lexer": "ipython3",
      "version": "3.7.0"
    },
    "colab": {
      "name": "Webscraping_Engineer_Peer_Review_Assignment.ipynb",
      "provenance": [],
      "include_colab_link": true
    }
  },
  "nbformat": 4,
  "nbformat_minor": 0
}